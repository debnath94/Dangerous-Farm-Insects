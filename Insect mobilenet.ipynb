{
 "cells": [
  {
   "cell_type": "code",
   "execution_count": 16,
   "id": "98c76699",
   "metadata": {},
   "outputs": [],
   "source": [
    "from PIL import Image\n",
    "import pandas as pd\n",
    "from sklearn.model_selection import train_test_split\n",
    "from tensorflow.keras.models import Sequential\n",
    "from tensorflow.keras.layers import Conv2D, MaxPooling2D, Flatten, Dense, GlobalAveragePooling2D\n",
    "from tensorflow.keras.preprocessing.image import ImageDataGenerator\n",
    "import pandas as pd\n",
    "import os"
   ]
  },
  {
   "cell_type": "code",
   "execution_count": 2,
   "id": "7a5ae88c",
   "metadata": {},
   "outputs": [
    {
     "data": {
      "text/plain": [
       "['E:\\\\LiveProject\\\\Deep_Learning\\\\farm_insects\\\\data\\\\Africanized Honey Bees (Killer Bees)\\\\Image_1.jpg',\n",
       " 'E:\\\\LiveProject\\\\Deep_Learning\\\\farm_insects\\\\data\\\\Africanized Honey Bees (Killer Bees)\\\\Image_10.jpg',\n",
       " 'E:\\\\LiveProject\\\\Deep_Learning\\\\farm_insects\\\\data\\\\Africanized Honey Bees (Killer Bees)\\\\Image_100.jpg',\n",
       " 'E:\\\\LiveProject\\\\Deep_Learning\\\\farm_insects\\\\data\\\\Africanized Honey Bees (Killer Bees)\\\\Image_102.jpg',\n",
       " 'E:\\\\LiveProject\\\\Deep_Learning\\\\farm_insects\\\\data\\\\Africanized Honey Bees (Killer Bees)\\\\Image_104.jpg']"
      ]
     },
     "execution_count": 2,
     "metadata": {},
     "output_type": "execute_result"
    }
   ],
   "source": [
    "Id = []\n",
    "import numpy as np\n",
    "#data processing, CSV file I/O (e.g. pd.read_csv)\n",
    "\n",
    "# Input data files are available in the read-only \"../input/\" directory\n",
    "# For example, running this (by clicking run or pressing Shift+Enter) will list all files under the input directory\n",
    "\n",
    "import os\n",
    "for dirname, _, filenames in os.walk(r\"E:\\LiveProject\\Deep_Learning\\farm_insects\\data\"):\n",
    "    for filename in filenames:\n",
    "        Id.append(os.path.join(dirname, filename))\n",
    "Id[:5]"
   ]
  },
  {
   "cell_type": "code",
   "execution_count": 3,
   "id": "86bf50e8",
   "metadata": {},
   "outputs": [
    {
     "data": {
      "text/html": [
       "<div>\n",
       "<style scoped>\n",
       "    .dataframe tbody tr th:only-of-type {\n",
       "        vertical-align: middle;\n",
       "    }\n",
       "\n",
       "    .dataframe tbody tr th {\n",
       "        vertical-align: top;\n",
       "    }\n",
       "\n",
       "    .dataframe thead th {\n",
       "        text-align: right;\n",
       "    }\n",
       "</style>\n",
       "<table border=\"1\" class=\"dataframe\">\n",
       "  <thead>\n",
       "    <tr style=\"text-align: right;\">\n",
       "      <th></th>\n",
       "      <th>filename</th>\n",
       "    </tr>\n",
       "  </thead>\n",
       "  <tbody>\n",
       "    <tr>\n",
       "      <th>0</th>\n",
       "      <td>E:\\LiveProject\\Deep_Learning\\farm_insects\\data...</td>\n",
       "    </tr>\n",
       "    <tr>\n",
       "      <th>1</th>\n",
       "      <td>E:\\LiveProject\\Deep_Learning\\farm_insects\\data...</td>\n",
       "    </tr>\n",
       "    <tr>\n",
       "      <th>2</th>\n",
       "      <td>E:\\LiveProject\\Deep_Learning\\farm_insects\\data...</td>\n",
       "    </tr>\n",
       "    <tr>\n",
       "      <th>3</th>\n",
       "      <td>E:\\LiveProject\\Deep_Learning\\farm_insects\\data...</td>\n",
       "    </tr>\n",
       "    <tr>\n",
       "      <th>4</th>\n",
       "      <td>E:\\LiveProject\\Deep_Learning\\farm_insects\\data...</td>\n",
       "    </tr>\n",
       "  </tbody>\n",
       "</table>\n",
       "</div>"
      ],
      "text/plain": [
       "                                            filename\n",
       "0  E:\\LiveProject\\Deep_Learning\\farm_insects\\data...\n",
       "1  E:\\LiveProject\\Deep_Learning\\farm_insects\\data...\n",
       "2  E:\\LiveProject\\Deep_Learning\\farm_insects\\data...\n",
       "3  E:\\LiveProject\\Deep_Learning\\farm_insects\\data...\n",
       "4  E:\\LiveProject\\Deep_Learning\\farm_insects\\data..."
      ]
     },
     "execution_count": 3,
     "metadata": {},
     "output_type": "execute_result"
    }
   ],
   "source": [
    "df=pd.DataFrame()\n",
    "df=df.assign(filename=Id)\n",
    "df.head()"
   ]
  },
  {
   "cell_type": "code",
   "execution_count": 4,
   "id": "07910ff9",
   "metadata": {},
   "outputs": [
    {
     "data": {
      "text/plain": [
       "(1591, 1)"
      ]
     },
     "execution_count": 4,
     "metadata": {},
     "output_type": "execute_result"
    }
   ],
   "source": [
    "df. shape"
   ]
  },
  {
   "cell_type": "code",
   "execution_count": 5,
   "id": "3a1bb95d",
   "metadata": {},
   "outputs": [
    {
     "name": "stderr",
     "output_type": "stream",
     "text": [
      "C:\\Users\\debna\\AppData\\Local\\Temp\\ipykernel_21660\\1560752447.py:2: FutureWarning: The default value of regex will change from True to False in a future version.\n",
      "  df['label']=df['label']. str. replace(r\"E:\\\\LiveProject\\\\Deep_Learning\\\\farm_insects\\\\data\", '')\n"
     ]
    },
    {
     "data": {
      "text/html": [
       "<div>\n",
       "<style scoped>\n",
       "    .dataframe tbody tr th:only-of-type {\n",
       "        vertical-align: middle;\n",
       "    }\n",
       "\n",
       "    .dataframe tbody tr th {\n",
       "        vertical-align: top;\n",
       "    }\n",
       "\n",
       "    .dataframe thead th {\n",
       "        text-align: right;\n",
       "    }\n",
       "</style>\n",
       "<table border=\"1\" class=\"dataframe\">\n",
       "  <thead>\n",
       "    <tr style=\"text-align: right;\">\n",
       "      <th></th>\n",
       "      <th>filename</th>\n",
       "      <th>label</th>\n",
       "    </tr>\n",
       "  </thead>\n",
       "  <tbody>\n",
       "    <tr>\n",
       "      <th>0</th>\n",
       "      <td>E:\\LiveProject\\Deep_Learning\\farm_insects\\data...</td>\n",
       "      <td>\\Africanized Honey Bees (Killer Bees)\\Image_1.jpg</td>\n",
       "    </tr>\n",
       "    <tr>\n",
       "      <th>1</th>\n",
       "      <td>E:\\LiveProject\\Deep_Learning\\farm_insects\\data...</td>\n",
       "      <td>\\Africanized Honey Bees (Killer Bees)\\Image_10...</td>\n",
       "    </tr>\n",
       "    <tr>\n",
       "      <th>2</th>\n",
       "      <td>E:\\LiveProject\\Deep_Learning\\farm_insects\\data...</td>\n",
       "      <td>\\Africanized Honey Bees (Killer Bees)\\Image_10...</td>\n",
       "    </tr>\n",
       "    <tr>\n",
       "      <th>3</th>\n",
       "      <td>E:\\LiveProject\\Deep_Learning\\farm_insects\\data...</td>\n",
       "      <td>\\Africanized Honey Bees (Killer Bees)\\Image_10...</td>\n",
       "    </tr>\n",
       "    <tr>\n",
       "      <th>4</th>\n",
       "      <td>E:\\LiveProject\\Deep_Learning\\farm_insects\\data...</td>\n",
       "      <td>\\Africanized Honey Bees (Killer Bees)\\Image_10...</td>\n",
       "    </tr>\n",
       "  </tbody>\n",
       "</table>\n",
       "</div>"
      ],
      "text/plain": [
       "                                            filename  \\\n",
       "0  E:\\LiveProject\\Deep_Learning\\farm_insects\\data...   \n",
       "1  E:\\LiveProject\\Deep_Learning\\farm_insects\\data...   \n",
       "2  E:\\LiveProject\\Deep_Learning\\farm_insects\\data...   \n",
       "3  E:\\LiveProject\\Deep_Learning\\farm_insects\\data...   \n",
       "4  E:\\LiveProject\\Deep_Learning\\farm_insects\\data...   \n",
       "\n",
       "                                               label  \n",
       "0  \\Africanized Honey Bees (Killer Bees)\\Image_1.jpg  \n",
       "1  \\Africanized Honey Bees (Killer Bees)\\Image_10...  \n",
       "2  \\Africanized Honey Bees (Killer Bees)\\Image_10...  \n",
       "3  \\Africanized Honey Bees (Killer Bees)\\Image_10...  \n",
       "4  \\Africanized Honey Bees (Killer Bees)\\Image_10...  "
      ]
     },
     "execution_count": 5,
     "metadata": {},
     "output_type": "execute_result"
    }
   ],
   "source": [
    "df['label']=df['filename']\n",
    "df['label']=df['label']. str. replace(r\"E:\\\\LiveProject\\\\Deep_Learning\\\\farm_insects\\\\data\", '')\n",
    "df.head()"
   ]
  },
  {
   "cell_type": "code",
   "execution_count": 6,
   "id": "224e9f85",
   "metadata": {},
   "outputs": [],
   "source": [
    "# Removing the unwanted values like ?/\n",
    "import re\n",
    "pattern = r\"\\\\([^\\\\]+)\"\n",
    "df['label'] = df['label'].str.extract(pattern, expand=False)"
   ]
  },
  {
   "cell_type": "code",
   "execution_count": 7,
   "id": "0f155702",
   "metadata": {},
   "outputs": [
    {
     "data": {
      "text/plain": [
       "Spider Mites                            119\n",
       "Corn Borers                             115\n",
       "Brown Marmorated Stink Bugs             114\n",
       "Fall Armyworms                          113\n",
       "Colorado Potato Beetles                 112\n",
       "Corn Earworms                           110\n",
       "Thrips                                  109\n",
       "Tomato Hornworms                        109\n",
       "Cabbage Loopers                         104\n",
       "Citrus Canker                           104\n",
       "Fruit Flies                             101\n",
       "Western Corn Rootworms                  100\n",
       "Africanized Honey Bees (Killer Bees)     97\n",
       "Armyworms                                96\n",
       "Aphids                                   88\n",
       "Name: label, dtype: int64"
      ]
     },
     "execution_count": 7,
     "metadata": {},
     "output_type": "execute_result"
    }
   ],
   "source": [
    "df. label. value_counts()"
   ]
  },
  {
   "cell_type": "code",
   "execution_count": 8,
   "id": "2e9d4c6d",
   "metadata": {},
   "outputs": [],
   "source": [
    "# Replace the label\n",
    "df['label'] = df['label'].replace('Africanized Honey Bees (Killer Bees)', 'Africanized Honey Bees Killer Bees')"
   ]
  },
  {
   "cell_type": "code",
   "execution_count": 9,
   "id": "77831545",
   "metadata": {},
   "outputs": [],
   "source": [
    "# Split the dataset into training and testing sets\n",
    "train_df, test_df = train_test_split(df, test_size=0.3, random_state=42)"
   ]
  },
  {
   "cell_type": "code",
   "execution_count": 10,
   "id": "b1d70d21",
   "metadata": {},
   "outputs": [],
   "source": [
    "#Define the image data generators for training and testing\n",
    "train_datagen = ImageDataGenerator(rescale=1./255, \n",
    "                                   shear_range=0.2, \n",
    "                                   zoom_range=0.2, \n",
    "                                   horizontal_flip=True)\n",
    "\n",
    "test_datagen = ImageDataGenerator(rescale=1./255)"
   ]
  },
  {
   "cell_type": "code",
   "execution_count": 11,
   "id": "73a2d8ae",
   "metadata": {},
   "outputs": [
    {
     "name": "stderr",
     "output_type": "stream",
     "text": [
      "C:\\Users\\debna\\anaconda3\\lib\\site-packages\\keras\\preprocessing\\image.py:1137: UserWarning: Found 6 invalid image filename(s) in x_col=\"filename\". These filename(s) will be ignored.\n",
      "  warnings.warn(\n"
     ]
    },
    {
     "name": "stdout",
     "output_type": "stream",
     "text": [
      "Found 1107 validated image filenames belonging to 15 classes.\n"
     ]
    }
   ],
   "source": [
    "# Generate augmented images for training\n",
    "train_generator = train_datagen.flow_from_dataframe(dataframe=train_df,\n",
    "                                                    x_col=\"filename\",\n",
    "                                                    y_col=\"label\",\n",
    "                                                    target_size=(100, 100),\n",
    "                                                    batch_size=32,\n",
    "                                                    class_mode=\"categorical\")"
   ]
  },
  {
   "cell_type": "code",
   "execution_count": 12,
   "id": "17768748",
   "metadata": {},
   "outputs": [
    {
     "name": "stdout",
     "output_type": "stream",
     "text": [
      "Found 472 validated image filenames belonging to 15 classes.\n"
     ]
    },
    {
     "name": "stderr",
     "output_type": "stream",
     "text": [
      "C:\\Users\\debna\\anaconda3\\lib\\site-packages\\keras\\preprocessing\\image.py:1137: UserWarning: Found 6 invalid image filename(s) in x_col=\"filename\". These filename(s) will be ignored.\n",
      "  warnings.warn(\n"
     ]
    }
   ],
   "source": [
    "# Generate augmented images for testing\n",
    "test_generator = test_datagen.flow_from_dataframe(dataframe=test_df,\n",
    "                                                  x_col=\"filename\",\n",
    "                                                  y_col=\"label\",\n",
    "                                                  target_size=(100, 100),\n",
    "                                                  batch_size=32,\n",
    "                                                  class_mode=\"categorical\")"
   ]
  },
  {
   "cell_type": "code",
   "execution_count": 20,
   "id": "9eea4f62",
   "metadata": {},
   "outputs": [],
   "source": [
    "from tensorflow.keras.applications import MobileNet\n",
    "from tensorflow.keras.optimizers import Adam"
   ]
  },
  {
   "cell_type": "code",
   "execution_count": 14,
   "id": "b97ef18e",
   "metadata": {},
   "outputs": [
    {
     "name": "stdout",
     "output_type": "stream",
     "text": [
      "WARNING:tensorflow:`input_shape` is undefined or non-square, or `rows` is not in [128, 160, 192, 224]. Weights for input shape (224, 224) will be loaded as the default.\n",
      "Downloading data from https://storage.googleapis.com/tensorflow/keras-applications/mobilenet/mobilenet_1_0_224_tf_no_top.h5\n",
      "17225924/17225924 [==============================] - 5s 0us/step\n"
     ]
    }
   ],
   "source": [
    "# Create the MobileNet base model\n",
    "base_model = MobileNet(include_top=False, input_shape=(100, 100, 3))"
   ]
  },
  {
   "cell_type": "code",
   "execution_count": 17,
   "id": "e13ac56b",
   "metadata": {},
   "outputs": [],
   "source": [
    "# Build the model architecture\n",
    "model = Sequential()\n",
    "model.add(base_model)\n",
    "model.add(GlobalAveragePooling2D())\n",
    "model.add(Dense(15, activation='softmax'))"
   ]
  },
  {
   "cell_type": "code",
   "execution_count": 18,
   "id": "e83e3250",
   "metadata": {},
   "outputs": [],
   "source": [
    "# Freeze the base model layers\n",
    "for layer in base_model.layers:\n",
    "    layer.trainable = False"
   ]
  },
  {
   "cell_type": "code",
   "execution_count": 21,
   "id": "3bbbe26c",
   "metadata": {},
   "outputs": [],
   "source": [
    "# Compile the model\n",
    "model.compile(optimizer=Adam(), loss='categorical_crossentropy', metrics=['accuracy'])"
   ]
  },
  {
   "cell_type": "code",
   "execution_count": 22,
   "id": "8e3948d9",
   "metadata": {},
   "outputs": [
    {
     "name": "stderr",
     "output_type": "stream",
     "text": [
      "C:\\Users\\debna\\anaconda3\\lib\\site-packages\\PIL\\Image.py:996: UserWarning: Palette images with Transparency expressed in bytes should be converted to RGBA images\n",
      "  warnings.warn(\n"
     ]
    },
    {
     "name": "stdout",
     "output_type": "stream",
     "text": [
      "Epoch 1/20\n",
      "35/35 [==============================] - 40s 1s/step - loss: 3.4939 - accuracy: 0.1427 - val_loss: 2.5313 - val_accuracy: 0.3093\n",
      "Epoch 2/20\n",
      "35/35 [==============================] - 33s 949ms/step - loss: 2.0524 - accuracy: 0.3776 - val_loss: 2.1307 - val_accuracy: 0.4025\n",
      "Epoch 3/20\n",
      "35/35 [==============================] - 33s 958ms/step - loss: 1.5807 - accuracy: 0.5023 - val_loss: 2.0321 - val_accuracy: 0.4174\n",
      "Epoch 4/20\n",
      "35/35 [==============================] - 33s 946ms/step - loss: 1.3570 - accuracy: 0.5682 - val_loss: 1.8790 - val_accuracy: 0.4513\n",
      "Epoch 5/20\n",
      "35/35 [==============================] - 33s 951ms/step - loss: 1.1871 - accuracy: 0.6188 - val_loss: 1.8431 - val_accuracy: 0.4576\n",
      "Epoch 6/20\n",
      "35/35 [==============================] - 33s 957ms/step - loss: 1.0086 - accuracy: 0.6838 - val_loss: 1.8148 - val_accuracy: 0.4767\n",
      "Epoch 7/20\n",
      "35/35 [==============================] - 33s 955ms/step - loss: 0.9250 - accuracy: 0.7164 - val_loss: 1.7523 - val_accuracy: 0.5148\n",
      "Epoch 8/20\n",
      "35/35 [==============================] - 33s 960ms/step - loss: 0.8050 - accuracy: 0.7453 - val_loss: 1.7862 - val_accuracy: 0.4915\n",
      "Epoch 9/20\n",
      "35/35 [==============================] - 33s 949ms/step - loss: 0.7593 - accuracy: 0.7606 - val_loss: 1.7200 - val_accuracy: 0.5042\n",
      "Epoch 10/20\n",
      "35/35 [==============================] - 33s 938ms/step - loss: 0.6874 - accuracy: 0.7977 - val_loss: 1.7220 - val_accuracy: 0.5275\n",
      "Epoch 11/20\n",
      "35/35 [==============================] - 33s 954ms/step - loss: 0.6845 - accuracy: 0.7922 - val_loss: 1.7722 - val_accuracy: 0.5042\n",
      "Epoch 12/20\n",
      "35/35 [==============================] - 33s 947ms/step - loss: 0.6355 - accuracy: 0.8076 - val_loss: 1.7231 - val_accuracy: 0.5360\n",
      "Epoch 13/20\n",
      "35/35 [==============================] - 33s 935ms/step - loss: 0.5568 - accuracy: 0.8365 - val_loss: 1.7158 - val_accuracy: 0.5403\n",
      "Epoch 14/20\n",
      "35/35 [==============================] - 33s 954ms/step - loss: 0.5250 - accuracy: 0.8591 - val_loss: 1.7225 - val_accuracy: 0.5297\n",
      "Epoch 15/20\n",
      "35/35 [==============================] - 33s 935ms/step - loss: 0.4768 - accuracy: 0.8627 - val_loss: 1.7313 - val_accuracy: 0.5191\n",
      "Epoch 16/20\n",
      "35/35 [==============================] - 34s 970ms/step - loss: 0.4689 - accuracy: 0.8681 - val_loss: 1.7403 - val_accuracy: 0.5381\n",
      "Epoch 17/20\n",
      "35/35 [==============================] - 36s 1s/step - loss: 0.4463 - accuracy: 0.8916 - val_loss: 1.7567 - val_accuracy: 0.5254\n",
      "Epoch 18/20\n",
      "35/35 [==============================] - 31s 895ms/step - loss: 0.4442 - accuracy: 0.8699 - val_loss: 1.7655 - val_accuracy: 0.5360\n",
      "Epoch 19/20\n",
      "35/35 [==============================] - 31s 896ms/step - loss: 0.4379 - accuracy: 0.8799 - val_loss: 1.7881 - val_accuracy: 0.5297\n",
      "Epoch 20/20\n",
      "35/35 [==============================] - 31s 908ms/step - loss: 0.3945 - accuracy: 0.8943 - val_loss: 1.8014 - val_accuracy: 0.5233\n"
     ]
    }
   ],
   "source": [
    "# Train the model\n",
    "history = model.fit(train_generator, epochs=20, validation_data=test_generator)"
   ]
  },
  {
   "cell_type": "code",
   "execution_count": 23,
   "id": "31de18df",
   "metadata": {},
   "outputs": [
    {
     "name": "stdout",
     "output_type": "stream",
     "text": [
      "15/15 [==============================] - 9s 613ms/step - loss: 1.8014 - accuracy: 0.5233\n"
     ]
    }
   ],
   "source": [
    "# Evaluate the model on the test set\n",
    "test_loss, test_accuracy = model.evaluate(test_generator)"
   ]
  },
  {
   "cell_type": "code",
   "execution_count": 24,
   "id": "3d0cf7d1",
   "metadata": {},
   "outputs": [
    {
     "name": "stdout",
     "output_type": "stream",
     "text": [
      "Test Loss: 1.8014053106307983\n",
      "Test Accuracy: 0.5233050584793091\n"
     ]
    }
   ],
   "source": [
    "print(f\"Test Loss: {test_loss}\")\n",
    "print(f\"Test Accuracy: {test_accuracy}\")"
   ]
  },
  {
   "cell_type": "code",
   "execution_count": 25,
   "id": "9648c91e",
   "metadata": {},
   "outputs": [
    {
     "name": "stderr",
     "output_type": "stream",
     "text": [
      "WARNING:absl:Function `_wrapped_model` contains input name(s) mobilenet_1.00_224_input with unsupported characters which will be renamed to mobilenet_1_00_224_input in the SavedModel.\n",
      "WARNING:absl:`mobilenet_1.00_224_input` is not a valid tf.function parameter name. Sanitizing to `mobilenet_1_00_224_input`.\n",
      "WARNING:absl:`mobilenet_1.00_224_input` is not a valid tf.function parameter name. Sanitizing to `mobilenet_1_00_224_input`.\n",
      "WARNING:absl:`mobilenet_1.00_224_input` is not a valid tf.function parameter name. Sanitizing to `mobilenet_1_00_224_input`.\n",
      "WARNING:absl:Found untraced functions such as _update_step_xla, _jit_compiled_convolution_op, _jit_compiled_convolution_op, _jit_compiled_convolution_op, _jit_compiled_convolution_op while saving (showing 5 of 28). These functions will not be directly callable after loading.\n"
     ]
    },
    {
     "name": "stdout",
     "output_type": "stream",
     "text": [
      "INFO:tensorflow:Assets written to: pest_mobilenet.h3\\assets\n"
     ]
    },
    {
     "name": "stderr",
     "output_type": "stream",
     "text": [
      "INFO:tensorflow:Assets written to: pest_mobilenet.h3\\assets\n"
     ]
    }
   ],
   "source": [
    "# save it as a h5 file\n",
    "from tensorflow.keras.models import load_model\n",
    "model.save('pest_mobilenet.h3')"
   ]
  },
  {
   "cell_type": "markdown",
   "id": "166b7034",
   "metadata": {},
   "source": [
    "# MobileNetV2:"
   ]
  },
  {
   "cell_type": "code",
   "execution_count": 27,
   "id": "1efb5f20",
   "metadata": {},
   "outputs": [],
   "source": [
    "from tensorflow.keras.applications import MobileNetV2"
   ]
  },
  {
   "cell_type": "code",
   "execution_count": 28,
   "id": "ed8cc623",
   "metadata": {},
   "outputs": [
    {
     "name": "stdout",
     "output_type": "stream",
     "text": [
      "Downloading data from https://storage.googleapis.com/tensorflow/keras-applications/mobilenet_v2/mobilenet_v2_weights_tf_dim_ordering_tf_kernels_1.0_224_no_top.h5\n",
      "9406464/9406464 [==============================] - 1s 0us/step\n"
     ]
    }
   ],
   "source": [
    "# Create the MobileNet base model\n",
    "base_model_mobilenetv2 = MobileNetV2(include_top=False, input_shape=(224, 224, 3))"
   ]
  },
  {
   "cell_type": "code",
   "execution_count": 29,
   "id": "bbb658bc",
   "metadata": {},
   "outputs": [],
   "source": [
    "# Build the model architecture\n",
    "model_mobilenetv2 = Sequential()\n",
    "model_mobilenetv2.add(base_model)\n",
    "model_mobilenetv2.add(GlobalAveragePooling2D())\n",
    "model_mobilenetv2.add(Dense(15, activation='softmax'))"
   ]
  },
  {
   "cell_type": "code",
   "execution_count": 30,
   "id": "1612c68e",
   "metadata": {},
   "outputs": [],
   "source": [
    "# Freeze the base model layers\n",
    "for layer in base_model.layers:\n",
    "    layer.trainable = False\n",
    "\n",
    "# Compile the model\n",
    "model_mobilenetv2.compile(optimizer=Adam(), loss='categorical_crossentropy', metrics=['accuracy'])"
   ]
  },
  {
   "cell_type": "code",
   "execution_count": 32,
   "id": "3bf8fbd0",
   "metadata": {},
   "outputs": [
    {
     "name": "stdout",
     "output_type": "stream",
     "text": [
      "Epoch 1/25\n",
      "35/35 [==============================] - 35s 970ms/step - loss: 3.4400 - accuracy: 0.1427 - val_loss: 2.5839 - val_accuracy: 0.2458\n",
      "Epoch 2/25\n",
      "35/35 [==============================] - 33s 954ms/step - loss: 2.0268 - accuracy: 0.3758 - val_loss: 2.0493 - val_accuracy: 0.3898\n",
      "Epoch 3/25\n",
      "35/35 [==============================] - 35s 1s/step - loss: 1.5951 - accuracy: 0.5086 - val_loss: 1.9472 - val_accuracy: 0.4237\n",
      "Epoch 4/25\n",
      "35/35 [==============================] - 33s 950ms/step - loss: 1.3297 - accuracy: 0.5899 - val_loss: 1.8302 - val_accuracy: 0.4407\n",
      "Epoch 5/25\n",
      "35/35 [==============================] - 36s 1s/step - loss: 1.1304 - accuracy: 0.6450 - val_loss: 1.7744 - val_accuracy: 0.4767\n",
      "Epoch 6/25\n",
      "35/35 [==============================] - 33s 939ms/step - loss: 1.0315 - accuracy: 0.6694 - val_loss: 1.7261 - val_accuracy: 0.4915\n",
      "Epoch 7/25\n",
      "35/35 [==============================] - 33s 948ms/step - loss: 0.9003 - accuracy: 0.7218 - val_loss: 1.7178 - val_accuracy: 0.5148\n",
      "Epoch 8/25\n",
      "35/35 [==============================] - 32s 916ms/step - loss: 0.8585 - accuracy: 0.7281 - val_loss: 1.6946 - val_accuracy: 0.5191\n",
      "Epoch 9/25\n",
      "35/35 [==============================] - 33s 938ms/step - loss: 0.7510 - accuracy: 0.7615 - val_loss: 1.6896 - val_accuracy: 0.5191\n",
      "Epoch 10/25\n",
      "35/35 [==============================] - 34s 976ms/step - loss: 0.6835 - accuracy: 0.7922 - val_loss: 1.7048 - val_accuracy: 0.5297\n",
      "Epoch 11/25\n",
      "35/35 [==============================] - 34s 962ms/step - loss: 0.6405 - accuracy: 0.8004 - val_loss: 1.6779 - val_accuracy: 0.5275\n",
      "Epoch 12/25\n",
      "35/35 [==============================] - 32s 939ms/step - loss: 0.5934 - accuracy: 0.8157 - val_loss: 1.6934 - val_accuracy: 0.5233\n",
      "Epoch 13/25\n",
      "35/35 [==============================] - 33s 957ms/step - loss: 0.5752 - accuracy: 0.8347 - val_loss: 1.7008 - val_accuracy: 0.5424\n",
      "Epoch 14/25\n",
      "35/35 [==============================] - 34s 966ms/step - loss: 0.5235 - accuracy: 0.8519 - val_loss: 1.6952 - val_accuracy: 0.5169\n",
      "Epoch 15/25\n",
      "35/35 [==============================] - 32s 923ms/step - loss: 0.4996 - accuracy: 0.8509 - val_loss: 1.7271 - val_accuracy: 0.5169\n",
      "Epoch 16/25\n",
      "35/35 [==============================] - 33s 942ms/step - loss: 0.4604 - accuracy: 0.8654 - val_loss: 1.7469 - val_accuracy: 0.5360\n",
      "Epoch 17/25\n",
      "35/35 [==============================] - 33s 938ms/step - loss: 0.4153 - accuracy: 0.8880 - val_loss: 1.7329 - val_accuracy: 0.5297\n",
      "Epoch 18/25\n",
      "35/35 [==============================] - 33s 933ms/step - loss: 0.4400 - accuracy: 0.8753 - val_loss: 1.7422 - val_accuracy: 0.5212\n",
      "Epoch 19/25\n",
      "35/35 [==============================] - 31s 902ms/step - loss: 0.4024 - accuracy: 0.8889 - val_loss: 1.7543 - val_accuracy: 0.5275\n",
      "Epoch 20/25\n",
      "35/35 [==============================] - 32s 916ms/step - loss: 0.3884 - accuracy: 0.8961 - val_loss: 1.7625 - val_accuracy: 0.5487\n",
      "Epoch 21/25\n",
      "35/35 [==============================] - 31s 907ms/step - loss: 0.3535 - accuracy: 0.9042 - val_loss: 1.7487 - val_accuracy: 0.5466\n",
      "Epoch 22/25\n",
      "35/35 [==============================] - 32s 917ms/step - loss: 0.3535 - accuracy: 0.9106 - val_loss: 1.7628 - val_accuracy: 0.5572\n",
      "Epoch 23/25\n",
      "35/35 [==============================] - 33s 951ms/step - loss: 0.3669 - accuracy: 0.8961 - val_loss: 1.7665 - val_accuracy: 0.5508\n",
      "Epoch 24/25\n",
      "35/35 [==============================] - 34s 999ms/step - loss: 0.3329 - accuracy: 0.9187 - val_loss: 1.8188 - val_accuracy: 0.5487\n",
      "Epoch 25/25\n",
      "35/35 [==============================] - 33s 958ms/step - loss: 0.3054 - accuracy: 0.9205 - val_loss: 1.7861 - val_accuracy: 0.5508\n"
     ]
    }
   ],
   "source": [
    "# Train the model\n",
    "history_v2 = model_mobilenetv2.fit(train_generator, epochs=25, validation_data=test_generator)"
   ]
  },
  {
   "cell_type": "code",
   "execution_count": 33,
   "id": "1fa69fd3",
   "metadata": {},
   "outputs": [
    {
     "name": "stdout",
     "output_type": "stream",
     "text": [
      "15/15 [==============================] - 9s 597ms/step - loss: 1.9780 - accuracy: 0.5466\n"
     ]
    }
   ],
   "source": [
    "# Evaluate the model on the test set\n",
    "test_loss_v2, test_accuracy_v2 = model.evaluate(test_generator)"
   ]
  },
  {
   "cell_type": "code",
   "execution_count": 34,
   "id": "62387c1a",
   "metadata": {},
   "outputs": [
    {
     "name": "stdout",
     "output_type": "stream",
     "text": [
      "Test Loss: 1.9780179262161255\n",
      "Test Accuracy: 0.5466101765632629\n"
     ]
    }
   ],
   "source": [
    "print(f\"Test Loss: {test_loss_v2}\")\n",
    "print(f\"Test Accuracy: {test_accuracy_v2}\")"
   ]
  },
  {
   "cell_type": "code",
   "execution_count": null,
   "id": "4ac4a3ee",
   "metadata": {},
   "outputs": [],
   "source": [
    "from tensorflow.keras.applications import MobileNetV3Large\n",
    "# Rest of the code is similar to MobileNet"
   ]
  }
 ],
 "metadata": {
  "kernelspec": {
   "display_name": "Python 3 (ipykernel)",
   "language": "python",
   "name": "python3"
  },
  "language_info": {
   "codemirror_mode": {
    "name": "ipython",
    "version": 3
   },
   "file_extension": ".py",
   "mimetype": "text/x-python",
   "name": "python",
   "nbconvert_exporter": "python",
   "pygments_lexer": "ipython3",
   "version": "3.10.9"
  }
 },
 "nbformat": 4,
 "nbformat_minor": 5
}
