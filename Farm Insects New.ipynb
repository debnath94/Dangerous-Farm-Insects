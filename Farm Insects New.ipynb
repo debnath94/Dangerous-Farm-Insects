{
 "cells": [
  {
   "cell_type": "code",
   "execution_count": 1,
   "id": "6aa39f05",
   "metadata": {},
   "outputs": [],
   "source": [
    "import pandas as pd\n",
    "import os"
   ]
  },
  {
   "cell_type": "code",
   "execution_count": 2,
   "id": "659b8cd6",
   "metadata": {},
   "outputs": [
    {
     "data": {
      "text/plain": [
       "['E:\\\\LiveProject\\\\Deep_Learning\\\\farm_insects\\\\data\\\\Africanized Honey Bees (Killer Bees)\\\\Image_1.jpg',\n",
       " 'E:\\\\LiveProject\\\\Deep_Learning\\\\farm_insects\\\\data\\\\Africanized Honey Bees (Killer Bees)\\\\Image_10.jpg',\n",
       " 'E:\\\\LiveProject\\\\Deep_Learning\\\\farm_insects\\\\data\\\\Africanized Honey Bees (Killer Bees)\\\\Image_100.jpg',\n",
       " 'E:\\\\LiveProject\\\\Deep_Learning\\\\farm_insects\\\\data\\\\Africanized Honey Bees (Killer Bees)\\\\Image_102.jpg',\n",
       " 'E:\\\\LiveProject\\\\Deep_Learning\\\\farm_insects\\\\data\\\\Africanized Honey Bees (Killer Bees)\\\\Image_104.jpg']"
      ]
     },
     "execution_count": 2,
     "metadata": {},
     "output_type": "execute_result"
    }
   ],
   "source": [
    "Id = []\n",
    "import numpy as np\n",
    "#data processing, CSV file I/O (e.g. pd.read_csv)\n",
    "\n",
    "# Input data files are available in the read-only \"../input/\" directory\n",
    "# For example, running this (by clicking run or pressing Shift+Enter) will list all files under the input directory\n",
    "\n",
    "import os\n",
    "for dirname, _, filenames in os.walk(r\"E:\\LiveProject\\Deep_Learning\\farm_insects\\data\"):\n",
    "    for filename in filenames:\n",
    "        Id.append(os.path.join(dirname, filename))\n",
    "Id[:5]"
   ]
  },
  {
   "cell_type": "code",
   "execution_count": 3,
   "id": "a2b2f8f8",
   "metadata": {},
   "outputs": [
    {
     "data": {
      "text/html": [
       "<div>\n",
       "<style scoped>\n",
       "    .dataframe tbody tr th:only-of-type {\n",
       "        vertical-align: middle;\n",
       "    }\n",
       "\n",
       "    .dataframe tbody tr th {\n",
       "        vertical-align: top;\n",
       "    }\n",
       "\n",
       "    .dataframe thead th {\n",
       "        text-align: right;\n",
       "    }\n",
       "</style>\n",
       "<table border=\"1\" class=\"dataframe\">\n",
       "  <thead>\n",
       "    <tr style=\"text-align: right;\">\n",
       "      <th></th>\n",
       "      <th>filename</th>\n",
       "    </tr>\n",
       "  </thead>\n",
       "  <tbody>\n",
       "    <tr>\n",
       "      <th>0</th>\n",
       "      <td>E:\\LiveProject\\Deep_Learning\\farm_insects\\data...</td>\n",
       "    </tr>\n",
       "    <tr>\n",
       "      <th>1</th>\n",
       "      <td>E:\\LiveProject\\Deep_Learning\\farm_insects\\data...</td>\n",
       "    </tr>\n",
       "    <tr>\n",
       "      <th>2</th>\n",
       "      <td>E:\\LiveProject\\Deep_Learning\\farm_insects\\data...</td>\n",
       "    </tr>\n",
       "    <tr>\n",
       "      <th>3</th>\n",
       "      <td>E:\\LiveProject\\Deep_Learning\\farm_insects\\data...</td>\n",
       "    </tr>\n",
       "    <tr>\n",
       "      <th>4</th>\n",
       "      <td>E:\\LiveProject\\Deep_Learning\\farm_insects\\data...</td>\n",
       "    </tr>\n",
       "  </tbody>\n",
       "</table>\n",
       "</div>"
      ],
      "text/plain": [
       "                                            filename\n",
       "0  E:\\LiveProject\\Deep_Learning\\farm_insects\\data...\n",
       "1  E:\\LiveProject\\Deep_Learning\\farm_insects\\data...\n",
       "2  E:\\LiveProject\\Deep_Learning\\farm_insects\\data...\n",
       "3  E:\\LiveProject\\Deep_Learning\\farm_insects\\data...\n",
       "4  E:\\LiveProject\\Deep_Learning\\farm_insects\\data..."
      ]
     },
     "execution_count": 3,
     "metadata": {},
     "output_type": "execute_result"
    }
   ],
   "source": [
    "df=pd.DataFrame()\n",
    "df=df.assign(filename=Id)\n",
    "df.head()"
   ]
  },
  {
   "cell_type": "code",
   "execution_count": 4,
   "id": "aa57fa79",
   "metadata": {},
   "outputs": [
    {
     "data": {
      "text/plain": [
       "(1591, 1)"
      ]
     },
     "execution_count": 4,
     "metadata": {},
     "output_type": "execute_result"
    }
   ],
   "source": [
    "df. shape"
   ]
  },
  {
   "cell_type": "code",
   "execution_count": 5,
   "id": "14af2366",
   "metadata": {},
   "outputs": [
    {
     "name": "stderr",
     "output_type": "stream",
     "text": [
      "C:\\Users\\debna\\AppData\\Local\\Temp\\ipykernel_10124\\1560752447.py:2: FutureWarning: The default value of regex will change from True to False in a future version.\n",
      "  df['label']=df['label']. str. replace(r\"E:\\\\LiveProject\\\\Deep_Learning\\\\farm_insects\\\\data\", '')\n"
     ]
    },
    {
     "data": {
      "text/html": [
       "<div>\n",
       "<style scoped>\n",
       "    .dataframe tbody tr th:only-of-type {\n",
       "        vertical-align: middle;\n",
       "    }\n",
       "\n",
       "    .dataframe tbody tr th {\n",
       "        vertical-align: top;\n",
       "    }\n",
       "\n",
       "    .dataframe thead th {\n",
       "        text-align: right;\n",
       "    }\n",
       "</style>\n",
       "<table border=\"1\" class=\"dataframe\">\n",
       "  <thead>\n",
       "    <tr style=\"text-align: right;\">\n",
       "      <th></th>\n",
       "      <th>filename</th>\n",
       "      <th>label</th>\n",
       "    </tr>\n",
       "  </thead>\n",
       "  <tbody>\n",
       "    <tr>\n",
       "      <th>0</th>\n",
       "      <td>E:\\LiveProject\\Deep_Learning\\farm_insects\\data...</td>\n",
       "      <td>\\Africanized Honey Bees (Killer Bees)\\Image_1.jpg</td>\n",
       "    </tr>\n",
       "    <tr>\n",
       "      <th>1</th>\n",
       "      <td>E:\\LiveProject\\Deep_Learning\\farm_insects\\data...</td>\n",
       "      <td>\\Africanized Honey Bees (Killer Bees)\\Image_10...</td>\n",
       "    </tr>\n",
       "    <tr>\n",
       "      <th>2</th>\n",
       "      <td>E:\\LiveProject\\Deep_Learning\\farm_insects\\data...</td>\n",
       "      <td>\\Africanized Honey Bees (Killer Bees)\\Image_10...</td>\n",
       "    </tr>\n",
       "    <tr>\n",
       "      <th>3</th>\n",
       "      <td>E:\\LiveProject\\Deep_Learning\\farm_insects\\data...</td>\n",
       "      <td>\\Africanized Honey Bees (Killer Bees)\\Image_10...</td>\n",
       "    </tr>\n",
       "    <tr>\n",
       "      <th>4</th>\n",
       "      <td>E:\\LiveProject\\Deep_Learning\\farm_insects\\data...</td>\n",
       "      <td>\\Africanized Honey Bees (Killer Bees)\\Image_10...</td>\n",
       "    </tr>\n",
       "  </tbody>\n",
       "</table>\n",
       "</div>"
      ],
      "text/plain": [
       "                                            filename  \\\n",
       "0  E:\\LiveProject\\Deep_Learning\\farm_insects\\data...   \n",
       "1  E:\\LiveProject\\Deep_Learning\\farm_insects\\data...   \n",
       "2  E:\\LiveProject\\Deep_Learning\\farm_insects\\data...   \n",
       "3  E:\\LiveProject\\Deep_Learning\\farm_insects\\data...   \n",
       "4  E:\\LiveProject\\Deep_Learning\\farm_insects\\data...   \n",
       "\n",
       "                                               label  \n",
       "0  \\Africanized Honey Bees (Killer Bees)\\Image_1.jpg  \n",
       "1  \\Africanized Honey Bees (Killer Bees)\\Image_10...  \n",
       "2  \\Africanized Honey Bees (Killer Bees)\\Image_10...  \n",
       "3  \\Africanized Honey Bees (Killer Bees)\\Image_10...  \n",
       "4  \\Africanized Honey Bees (Killer Bees)\\Image_10...  "
      ]
     },
     "execution_count": 5,
     "metadata": {},
     "output_type": "execute_result"
    }
   ],
   "source": [
    "df['label']=df['filename']\n",
    "df['label']=df['label']. str. replace(r\"E:\\\\LiveProject\\\\Deep_Learning\\\\farm_insects\\\\data\", '')\n",
    "df.head()"
   ]
  },
  {
   "cell_type": "code",
   "execution_count": 6,
   "id": "7cc4cc64",
   "metadata": {},
   "outputs": [],
   "source": [
    "# Removing the unwanted values like ?/\n",
    "import re\n",
    "pattern = r\"\\\\([^\\\\]+)\"\n",
    "df['label'] = df['label'].str.extract(pattern, expand=False)"
   ]
  },
  {
   "cell_type": "code",
   "execution_count": 7,
   "id": "240b3c88",
   "metadata": {},
   "outputs": [
    {
     "data": {
      "text/plain": [
       "Spider Mites                            119\n",
       "Corn Borers                             115\n",
       "Brown Marmorated Stink Bugs             114\n",
       "Fall Armyworms                          113\n",
       "Colorado Potato Beetles                 112\n",
       "Corn Earworms                           110\n",
       "Thrips                                  109\n",
       "Tomato Hornworms                        109\n",
       "Cabbage Loopers                         104\n",
       "Citrus Canker                           104\n",
       "Fruit Flies                             101\n",
       "Western Corn Rootworms                  100\n",
       "Africanized Honey Bees (Killer Bees)     97\n",
       "Armyworms                                96\n",
       "Aphids                                   88\n",
       "Name: label, dtype: int64"
      ]
     },
     "execution_count": 7,
     "metadata": {},
     "output_type": "execute_result"
    }
   ],
   "source": [
    "df. label. value_counts()"
   ]
  },
  {
   "cell_type": "code",
   "execution_count": 8,
   "id": "0c64333d",
   "metadata": {},
   "outputs": [],
   "source": [
    "# Replace the label\n",
    "df['label'] = df['label'].replace('Africanized Honey Bees (Killer Bees)', 'Africanized Honey Bees Killer Bees')"
   ]
  },
  {
   "cell_type": "code",
   "execution_count": 9,
   "id": "33c69e5a",
   "metadata": {},
   "outputs": [
    {
     "name": "stdout",
     "output_type": "stream",
     "text": [
      "['Africanized Honey Bees Killer Bees' 'Aphids' 'Armyworms'\n",
      " 'Brown Marmorated Stink Bugs' 'Cabbage Loopers' 'Citrus Canker'\n",
      " 'Colorado Potato Beetles' 'Corn Borers' 'Corn Earworms' 'Fall Armyworms'\n",
      " 'Fruit Flies' 'Spider Mites' 'Thrips' 'Tomato Hornworms'\n",
      " 'Western Corn Rootworms']\n"
     ]
    }
   ],
   "source": [
    "unique_labels = df['label'].unique()\n",
    "print(unique_labels)"
   ]
  },
  {
   "cell_type": "code",
   "execution_count": null,
   "id": "cff0daca",
   "metadata": {},
   "outputs": [],
   "source": [
    "#df. to_csv(\"Dangerous Farm Insects Dataset.csv\", index = False)"
   ]
  },
  {
   "cell_type": "code",
   "execution_count": 10,
   "id": "656d9a29",
   "metadata": {},
   "outputs": [
    {
     "data": {
      "text/plain": [
       "<Axes: xlabel='label', ylabel='count'>"
      ]
     },
     "execution_count": 10,
     "metadata": {},
     "output_type": "execute_result"
    },
    {
     "data": {
      "image/png": "[encoded data removed]",
      "text/plain": [
       "<Figure size 640x480 with 1 Axes>"
      ]
     },
     "metadata": {},
     "output_type": "display_data"
    }
   ],
   "source": [
    "import seaborn as sns\n",
    "sns. countplot(x = df[\"label\"])"
   ]
  },
  {
   "cell_type": "code",
   "execution_count": 11,
   "id": "9afe757f",
   "metadata": {},
   "outputs": [],
   "source": [
    "import numpy as np\n",
    "import seaborn as sns\n",
    "import matplotlib. pylab as plt\n",
    "from sklearn.model_selection import train_test_split\n",
    "from keras.preprocessing.image import ImageDataGenerator\n",
    "from keras.models import Sequential\n",
    "from keras.layers import Conv2D, MaxPooling2D, Flatten, Dense, Dropout\n",
    "from sklearn.utils import class_weight\n",
    "from tensorflow.keras.applications import VGG19"
   ]
  },
  {
   "cell_type": "code",
   "execution_count": 12,
   "id": "ea6cf239",
   "metadata": {},
   "outputs": [],
   "source": [
    "# Split the dataset into training and testing sets\n",
    "train_df, test_df = train_test_split(df, test_size=0.2, random_state=42)"
   ]
  },
  {
   "cell_type": "markdown",
   "id": "25fce367",
   "metadata": {},
   "source": [
    "# Pre-process the data"
   ]
  },
  {
   "cell_type": "code",
   "execution_count": 13,
   "id": "aec5ac3c",
   "metadata": {},
   "outputs": [],
   "source": [
    "train_datagen = ImageDataGenerator(rescale=1./255, \n",
    "                                   shear_range=0.2, \n",
    "                                   zoom_range=0.2, \n",
    "                                   horizontal_flip=True)"
   ]
  },
  {
   "cell_type": "code",
   "execution_count": 14,
   "id": "2272b727",
   "metadata": {},
   "outputs": [],
   "source": [
    "test_datagen = ImageDataGenerator(rescale=1./255)"
   ]
  },
  {
   "cell_type": "code",
   "execution_count": 16,
   "id": "e2c9b70a",
   "metadata": {},
   "outputs": [
    {
     "name": "stdout",
     "output_type": "stream",
     "text": [
      "Found 1262 validated image filenames belonging to 15 classes.\n"
     ]
    },
    {
     "name": "stderr",
     "output_type": "stream",
     "text": [
      "C:\\Users\\debna\\anaconda3\\lib\\site-packages\\keras\\preprocessing\\image.py:1137: UserWarning: Found 10 invalid image filename(s) in x_col=\"filename\". These filename(s) will be ignored.\n",
      "  warnings.warn(\n"
     ]
    }
   ],
   "source": [
    "train_generator = train_datagen.flow_from_dataframe(dataframe=train_df,\n",
    "                                                    x_col=\"filename\",\n",
    "                                                    y_col=\"label\",\n",
    "                                                    target_size=(200, 200),\n",
    "                                                    batch_size=32,\n",
    "                                                    class_mode=\"categorical\")"
   ]
  },
  {
   "cell_type": "code",
   "execution_count": 17,
   "id": "c0d6a2ab",
   "metadata": {},
   "outputs": [
    {
     "name": "stdout",
     "output_type": "stream",
     "text": [
      "Invalid Images:\n"
     ]
    }
   ],
   "source": [
    "import os\n",
    "\n",
    "invalid_images = []\n",
    "\n",
    "for filename in train_df[\"filename\"]:\n",
    "    if not os.path.exists(filename):\n",
    "        invalid_images.append(filename)\n",
    "\n",
    "print(\"Invalid Images:\")\n",
    "for image in invalid_images:\n",
    "    print(image)"
   ]
  },
  {
   "cell_type": "code",
   "execution_count": 18,
   "id": "ea8a2aac",
   "metadata": {},
   "outputs": [
    {
     "name": "stdout",
     "output_type": "stream",
     "text": [
      "Found 317 validated image filenames belonging to 15 classes.\n"
     ]
    },
    {
     "name": "stderr",
     "output_type": "stream",
     "text": [
      "C:\\Users\\debna\\anaconda3\\lib\\site-packages\\keras\\preprocessing\\image.py:1137: UserWarning: Found 2 invalid image filename(s) in x_col=\"filename\". These filename(s) will be ignored.\n",
      "  warnings.warn(\n"
     ]
    }
   ],
   "source": [
    "test_generator = test_datagen.flow_from_dataframe(dataframe=test_df,\n",
    "                                                  x_col=\"filename\",\n",
    "                                                  y_col=\"label\",\n",
    "                                                  target_size=(200, 200),\n",
    "                                                  batch_size=32,\n",
    "                                                  class_mode=\"categorical\")"
   ]
  },
  {
   "cell_type": "code",
   "execution_count": 19,
   "id": "01a5ca1d",
   "metadata": {},
   "outputs": [],
   "source": [
    "# Build a deep learning model\n",
    "model = Sequential()\n",
    "model.add(Conv2D(32, (3, 3), input_shape=(200, 200, 3), activation='relu'))\n",
    "model.add(Conv2D(32, (3, 3), activation='relu', input_shape=(64, 64, 3)))\n",
    "model.add(MaxPooling2D(2, 2))\n",
    "model.add(Conv2D(64, (3, 3), activation='relu'))\n",
    "model.add(MaxPooling2D(2, 2))\n",
    "model.add(Conv2D(128, (3, 3), activation='relu'))\n",
    "model.add(MaxPooling2D(2, 2))\n",
    "model.add(Flatten())\n",
    "model.add(Dense(128, activation='relu'))\n",
    "model.add(Dense(15, activation='softmax'))"
   ]
  },
  {
   "cell_type": "code",
   "execution_count": 20,
   "id": "498e36d4",
   "metadata": {},
   "outputs": [],
   "source": [
    "model.compile(optimizer='adam', loss='categorical_crossentropy', metrics=['accuracy'])"
   ]
  },
  {
   "cell_type": "code",
   "execution_count": 21,
   "id": "0e93379a",
   "metadata": {},
   "outputs": [
    {
     "name": "stderr",
     "output_type": "stream",
     "text": [
      "C:\\Users\\debna\\AppData\\Local\\Temp\\ipykernel_10124\\1454701016.py:1: UserWarning: `Model.fit_generator` is deprecated and will be removed in a future version. Please use `Model.fit`, which supports generators.\n",
      "  history = model.fit_generator(train_generator, epochs=100, validation_data=test_generator)\n"
     ]
    },
    {
     "name": "stdout",
     "output_type": "stream",
     "text": [
      "Epoch 1/100\n",
      " 2/40 [>.............................] - ETA: 1:23 - loss: 3.5851 - accuracy: 0.0781"
     ]
    },
    {
     "name": "stderr",
     "output_type": "stream",
     "text": [
      "C:\\Users\\debna\\anaconda3\\lib\\site-packages\\PIL\\Image.py:996: UserWarning: Palette images with Transparency expressed in bytes should be converted to RGBA images\n",
      "  warnings.warn(\n"
     ]
    },
    {
     "name": "stdout",
     "output_type": "stream",
     "text": [
      "40/40 [==============================] - 101s 2s/step - loss: 2.7760 - accuracy: 0.0761 - val_loss: 2.7052 - val_accuracy: 0.0536\n",
      "Epoch 2/100\n",
      "40/40 [==============================] - 97s 2s/step - loss: 2.6978 - accuracy: 0.0729 - val_loss: 2.6931 - val_accuracy: 0.0915\n",
      "Epoch 3/100\n",
      "40/40 [==============================] - 101s 3s/step - loss: 2.6757 - accuracy: 0.0990 - val_loss: 2.6613 - val_accuracy: 0.1420\n",
      "Epoch 4/100\n",
      "40/40 [==============================] - 99s 2s/step - loss: 2.6028 - accuracy: 0.1268 - val_loss: 2.7062 - val_accuracy: 0.1388\n",
      "Epoch 5/100\n",
      "40/40 [==============================] - 97s 2s/step - loss: 2.5691 - accuracy: 0.1561 - val_loss: 2.5958 - val_accuracy: 0.1577\n",
      "Epoch 6/100\n",
      "40/40 [==============================] - 97s 2s/step - loss: 2.4602 - accuracy: 0.2036 - val_loss: 2.5857 - val_accuracy: 0.1514\n",
      "Epoch 7/100\n",
      "40/40 [==============================] - 93s 2s/step - loss: 2.2816 - accuracy: 0.2520 - val_loss: 2.4767 - val_accuracy: 0.2366\n",
      "Epoch 8/100\n",
      "40/40 [==============================] - 93s 2s/step - loss: 2.1752 - accuracy: 0.3011 - val_loss: 2.5094 - val_accuracy: 0.2114\n",
      "Epoch 9/100\n",
      "40/40 [==============================] - 91s 2s/step - loss: 2.0577 - accuracy: 0.3590 - val_loss: 2.5330 - val_accuracy: 0.2429\n",
      "Epoch 10/100\n",
      "40/40 [==============================] - 106s 3s/step - loss: 1.8812 - accuracy: 0.3986 - val_loss: 2.5941 - val_accuracy: 0.2555\n",
      "Epoch 11/100\n",
      "40/40 [==============================] - 122s 3s/step - loss: 1.6761 - accuracy: 0.4842 - val_loss: 2.5563 - val_accuracy: 0.2555\n",
      "Epoch 12/100\n",
      "40/40 [==============================] - 119s 3s/step - loss: 1.4831 - accuracy: 0.5238 - val_loss: 2.4048 - val_accuracy: 0.2997\n",
      "Epoch 13/100\n",
      "40/40 [==============================] - 109s 3s/step - loss: 1.3934 - accuracy: 0.5674 - val_loss: 2.8256 - val_accuracy: 0.3281\n",
      "Epoch 14/100\n",
      "40/40 [==============================] - 106s 3s/step - loss: 1.2177 - accuracy: 0.6252 - val_loss: 2.6334 - val_accuracy: 0.3754\n",
      "Epoch 15/100\n",
      "40/40 [==============================] - 102s 3s/step - loss: 1.1061 - accuracy: 0.6506 - val_loss: 2.6576 - val_accuracy: 0.3312\n",
      "Epoch 16/100\n",
      "40/40 [==============================] - 93s 2s/step - loss: 1.0119 - accuracy: 0.6918 - val_loss: 2.8253 - val_accuracy: 0.3344\n",
      "Epoch 17/100\n",
      "40/40 [==============================] - 93s 2s/step - loss: 0.8699 - accuracy: 0.7409 - val_loss: 2.9714 - val_accuracy: 0.3502\n",
      "Epoch 18/100\n",
      "40/40 [==============================] - 93s 2s/step - loss: 0.7023 - accuracy: 0.7987 - val_loss: 2.9332 - val_accuracy: 0.3596\n",
      "Epoch 19/100\n",
      "40/40 [==============================] - 95s 2s/step - loss: 0.6552 - accuracy: 0.7979 - val_loss: 3.3598 - val_accuracy: 0.3438\n",
      "Epoch 20/100\n",
      "40/40 [==============================] - 100s 2s/step - loss: 0.6237 - accuracy: 0.8241 - val_loss: 3.1837 - val_accuracy: 0.3407\n",
      "Epoch 21/100\n",
      "40/40 [==============================] - 101s 3s/step - loss: 0.4705 - accuracy: 0.8566 - val_loss: 3.5162 - val_accuracy: 0.3596\n",
      "Epoch 22/100\n",
      "40/40 [==============================] - 128s 3s/step - loss: 0.4459 - accuracy: 0.8661 - val_loss: 3.4568 - val_accuracy: 0.3565\n",
      "Epoch 23/100\n",
      "40/40 [==============================] - 99s 2s/step - loss: 0.4172 - accuracy: 0.8740 - val_loss: 3.7931 - val_accuracy: 0.3722\n",
      "Epoch 24/100\n",
      "40/40 [==============================] - 92s 2s/step - loss: 0.4562 - accuracy: 0.8645 - val_loss: 4.0684 - val_accuracy: 0.3502\n",
      "Epoch 25/100\n",
      "40/40 [==============================] - 92s 2s/step - loss: 0.4727 - accuracy: 0.8669 - val_loss: 4.0468 - val_accuracy: 0.3754\n",
      "Epoch 26/100\n",
      "40/40 [==============================] - 92s 2s/step - loss: 0.3211 - accuracy: 0.9065 - val_loss: 3.8713 - val_accuracy: 0.3691\n",
      "Epoch 27/100\n",
      "40/40 [==============================] - 92s 2s/step - loss: 0.2880 - accuracy: 0.9073 - val_loss: 4.1468 - val_accuracy: 0.3596\n",
      "Epoch 28/100\n",
      "40/40 [==============================] - 93s 2s/step - loss: 0.2440 - accuracy: 0.9247 - val_loss: 4.2920 - val_accuracy: 0.3722\n",
      "Epoch 29/100\n",
      "40/40 [==============================] - 92s 2s/step - loss: 0.2845 - accuracy: 0.9113 - val_loss: 4.1933 - val_accuracy: 0.3659\n",
      "Epoch 30/100\n",
      "40/40 [==============================] - 92s 2s/step - loss: 0.2085 - accuracy: 0.9350 - val_loss: 4.3804 - val_accuracy: 0.3628\n",
      "Epoch 31/100\n",
      "40/40 [==============================] - 93s 2s/step - loss: 0.2766 - accuracy: 0.9128 - val_loss: 4.2945 - val_accuracy: 0.3722\n",
      "Epoch 32/100\n",
      "40/40 [==============================] - 93s 2s/step - loss: 0.2353 - accuracy: 0.9303 - val_loss: 4.4618 - val_accuracy: 0.3596\n",
      "Epoch 33/100\n",
      "40/40 [==============================] - 93s 2s/step - loss: 0.2266 - accuracy: 0.9366 - val_loss: 4.0158 - val_accuracy: 0.3344\n",
      "Epoch 34/100\n",
      "40/40 [==============================] - 93s 2s/step - loss: 0.2090 - accuracy: 0.9342 - val_loss: 4.4066 - val_accuracy: 0.3438\n",
      "Epoch 35/100\n",
      "40/40 [==============================] - 93s 2s/step - loss: 0.1711 - accuracy: 0.9485 - val_loss: 4.5994 - val_accuracy: 0.3470\n",
      "Epoch 36/100\n",
      "40/40 [==============================] - 93s 2s/step - loss: 0.2025 - accuracy: 0.9453 - val_loss: 4.3833 - val_accuracy: 0.3407\n",
      "Epoch 37/100\n",
      "40/40 [==============================] - 93s 2s/step - loss: 0.1651 - accuracy: 0.9477 - val_loss: 4.4416 - val_accuracy: 0.3565\n",
      "Epoch 38/100\n",
      "40/40 [==============================] - 94s 2s/step - loss: 0.1371 - accuracy: 0.9572 - val_loss: 4.7540 - val_accuracy: 0.3596\n",
      "Epoch 39/100\n",
      "40/40 [==============================] - 92s 2s/step - loss: 0.1617 - accuracy: 0.9469 - val_loss: 4.5268 - val_accuracy: 0.3659\n",
      "Epoch 40/100\n",
      "40/40 [==============================] - 91s 2s/step - loss: 0.1315 - accuracy: 0.9556 - val_loss: 5.2131 - val_accuracy: 0.3691\n",
      "Epoch 41/100\n",
      "40/40 [==============================] - 92s 2s/step - loss: 0.1844 - accuracy: 0.9517 - val_loss: 4.6830 - val_accuracy: 0.3375\n",
      "Epoch 42/100\n",
      "40/40 [==============================] - 93s 2s/step - loss: 0.1690 - accuracy: 0.9532 - val_loss: 4.8443 - val_accuracy: 0.3312\n",
      "Epoch 43/100\n",
      "40/40 [==============================] - 93s 2s/step - loss: 0.1368 - accuracy: 0.9604 - val_loss: 4.8199 - val_accuracy: 0.3722\n",
      "Epoch 44/100\n",
      "40/40 [==============================] - 91s 2s/step - loss: 0.1013 - accuracy: 0.9659 - val_loss: 4.8755 - val_accuracy: 0.3754\n",
      "Epoch 45/100\n",
      "40/40 [==============================] - 91s 2s/step - loss: 0.1187 - accuracy: 0.9667 - val_loss: 4.6728 - val_accuracy: 0.3344\n",
      "Epoch 46/100\n",
      "40/40 [==============================] - 93s 2s/step - loss: 0.1323 - accuracy: 0.9532 - val_loss: 4.7379 - val_accuracy: 0.3691\n",
      "Epoch 47/100\n",
      "40/40 [==============================] - 93s 2s/step - loss: 0.0951 - accuracy: 0.9620 - val_loss: 5.4265 - val_accuracy: 0.3565\n",
      "Epoch 48/100\n",
      "40/40 [==============================] - 92s 2s/step - loss: 0.1510 - accuracy: 0.9501 - val_loss: 5.2744 - val_accuracy: 0.3596\n",
      "Epoch 49/100\n",
      "40/40 [==============================] - 93s 2s/step - loss: 0.1157 - accuracy: 0.9659 - val_loss: 5.4448 - val_accuracy: 0.3659\n",
      "Epoch 50/100\n",
      "40/40 [==============================] - 92s 2s/step - loss: 0.1028 - accuracy: 0.9628 - val_loss: 5.3148 - val_accuracy: 0.3754\n",
      "Epoch 51/100\n",
      "40/40 [==============================] - 93s 2s/step - loss: 0.1274 - accuracy: 0.9604 - val_loss: 5.3849 - val_accuracy: 0.3407\n",
      "Epoch 52/100\n",
      "40/40 [==============================] - 92s 2s/step - loss: 0.0813 - accuracy: 0.9739 - val_loss: 6.0170 - val_accuracy: 0.3691\n",
      "Epoch 53/100\n",
      "40/40 [==============================] - 92s 2s/step - loss: 0.0693 - accuracy: 0.9770 - val_loss: 5.9538 - val_accuracy: 0.3344\n",
      "Epoch 54/100\n",
      "40/40 [==============================] - 93s 2s/step - loss: 0.1045 - accuracy: 0.9651 - val_loss: 5.3811 - val_accuracy: 0.3375\n",
      "Epoch 55/100\n",
      "40/40 [==============================] - 92s 2s/step - loss: 0.1152 - accuracy: 0.9620 - val_loss: 4.8861 - val_accuracy: 0.3533\n",
      "Epoch 56/100\n",
      "40/40 [==============================] - 93s 2s/step - loss: 0.0900 - accuracy: 0.9643 - val_loss: 5.5055 - val_accuracy: 0.3502\n",
      "Epoch 57/100\n",
      "40/40 [==============================] - 92s 2s/step - loss: 0.1133 - accuracy: 0.9628 - val_loss: 5.5072 - val_accuracy: 0.3596\n",
      "Epoch 58/100\n",
      "40/40 [==============================] - 92s 2s/step - loss: 0.0822 - accuracy: 0.9707 - val_loss: 5.7690 - val_accuracy: 0.3628\n",
      "Epoch 59/100\n",
      "40/40 [==============================] - 92s 2s/step - loss: 0.0935 - accuracy: 0.9675 - val_loss: 5.6382 - val_accuracy: 0.3659\n",
      "Epoch 60/100\n",
      "40/40 [==============================] - 92s 2s/step - loss: 0.1002 - accuracy: 0.9588 - val_loss: 5.1672 - val_accuracy: 0.3628\n",
      "Epoch 61/100\n",
      "40/40 [==============================] - 93s 2s/step - loss: 0.0770 - accuracy: 0.9699 - val_loss: 5.5464 - val_accuracy: 0.3344\n",
      "Epoch 62/100\n",
      "40/40 [==============================] - 91s 2s/step - loss: 0.0985 - accuracy: 0.9612 - val_loss: 5.5939 - val_accuracy: 0.3281\n",
      "Epoch 63/100\n",
      "40/40 [==============================] - 92s 2s/step - loss: 0.0754 - accuracy: 0.9746 - val_loss: 5.6657 - val_accuracy: 0.3375\n",
      "Epoch 64/100\n",
      "40/40 [==============================] - 91s 2s/step - loss: 0.0941 - accuracy: 0.9667 - val_loss: 5.7176 - val_accuracy: 0.3533\n",
      "Epoch 65/100\n",
      "40/40 [==============================] - 91s 2s/step - loss: 0.0844 - accuracy: 0.9683 - val_loss: 5.6461 - val_accuracy: 0.3722\n",
      "Epoch 66/100\n",
      "40/40 [==============================] - 92s 2s/step - loss: 0.0982 - accuracy: 0.9667 - val_loss: 5.1208 - val_accuracy: 0.3565\n",
      "Epoch 67/100\n",
      "40/40 [==============================] - 91s 2s/step - loss: 0.0865 - accuracy: 0.9723 - val_loss: 5.4353 - val_accuracy: 0.3596\n",
      "Epoch 68/100\n",
      "40/40 [==============================] - 91s 2s/step - loss: 0.1298 - accuracy: 0.9596 - val_loss: 5.3950 - val_accuracy: 0.3596\n",
      "Epoch 69/100\n",
      "40/40 [==============================] - 92s 2s/step - loss: 0.1198 - accuracy: 0.9572 - val_loss: 5.2353 - val_accuracy: 0.3470\n",
      "Epoch 70/100\n",
      "40/40 [==============================] - 94s 2s/step - loss: 0.0888 - accuracy: 0.9651 - val_loss: 5.8288 - val_accuracy: 0.3438\n",
      "Epoch 71/100\n",
      "40/40 [==============================] - 92s 2s/step - loss: 0.0828 - accuracy: 0.9691 - val_loss: 6.2168 - val_accuracy: 0.3375\n",
      "Epoch 72/100\n",
      "40/40 [==============================] - 92s 2s/step - loss: 0.1117 - accuracy: 0.9635 - val_loss: 5.6084 - val_accuracy: 0.3722\n",
      "Epoch 73/100\n",
      "40/40 [==============================] - 93s 2s/step - loss: 0.0725 - accuracy: 0.9707 - val_loss: 6.0267 - val_accuracy: 0.3249\n",
      "Epoch 74/100\n",
      "40/40 [==============================] - 92s 2s/step - loss: 0.0652 - accuracy: 0.9770 - val_loss: 5.3838 - val_accuracy: 0.3502\n",
      "Epoch 75/100\n",
      "40/40 [==============================] - 92s 2s/step - loss: 0.0474 - accuracy: 0.9818 - val_loss: 6.3973 - val_accuracy: 0.3596\n",
      "Epoch 76/100\n",
      "40/40 [==============================] - 92s 2s/step - loss: 0.1065 - accuracy: 0.9620 - val_loss: 6.2249 - val_accuracy: 0.3533\n",
      "Epoch 77/100\n",
      "40/40 [==============================] - 93s 2s/step - loss: 0.0954 - accuracy: 0.9731 - val_loss: 6.5125 - val_accuracy: 0.3502\n",
      "Epoch 78/100\n",
      "40/40 [==============================] - 92s 2s/step - loss: 0.1391 - accuracy: 0.9556 - val_loss: 5.8096 - val_accuracy: 0.3502\n",
      "Epoch 79/100\n",
      "40/40 [==============================] - 92s 2s/step - loss: 0.1100 - accuracy: 0.9667 - val_loss: 5.9822 - val_accuracy: 0.3659\n",
      "Epoch 80/100\n",
      "40/40 [==============================] - 97s 2s/step - loss: 0.1304 - accuracy: 0.9564 - val_loss: 5.5523 - val_accuracy: 0.3533\n",
      "Epoch 81/100\n",
      "40/40 [==============================] - 111s 3s/step - loss: 0.1176 - accuracy: 0.9564 - val_loss: 5.9137 - val_accuracy: 0.3722\n",
      "Epoch 82/100\n",
      "40/40 [==============================] - 92s 2s/step - loss: 0.1264 - accuracy: 0.9659 - val_loss: 5.4801 - val_accuracy: 0.3533\n",
      "Epoch 83/100\n",
      "40/40 [==============================] - 94s 2s/step - loss: 0.1036 - accuracy: 0.9628 - val_loss: 5.3584 - val_accuracy: 0.3754\n",
      "Epoch 84/100\n",
      "40/40 [==============================] - 92s 2s/step - loss: 0.1121 - accuracy: 0.9612 - val_loss: 5.6877 - val_accuracy: 0.3438\n",
      "Epoch 85/100\n",
      "40/40 [==============================] - 92s 2s/step - loss: 0.0702 - accuracy: 0.9723 - val_loss: 6.1196 - val_accuracy: 0.3659\n",
      "Epoch 86/100\n",
      "40/40 [==============================] - 93s 2s/step - loss: 0.0515 - accuracy: 0.9778 - val_loss: 5.8184 - val_accuracy: 0.3722\n",
      "Epoch 87/100\n",
      "40/40 [==============================] - 92s 2s/step - loss: 0.0606 - accuracy: 0.9731 - val_loss: 6.2139 - val_accuracy: 0.3596\n",
      "Epoch 88/100\n",
      "40/40 [==============================] - 91s 2s/step - loss: 0.0706 - accuracy: 0.9715 - val_loss: 6.0301 - val_accuracy: 0.3722\n",
      "Epoch 89/100\n",
      "40/40 [==============================] - 92s 2s/step - loss: 0.0672 - accuracy: 0.9754 - val_loss: 6.5096 - val_accuracy: 0.3407\n",
      "Epoch 90/100\n",
      "40/40 [==============================] - 92s 2s/step - loss: 0.0627 - accuracy: 0.9754 - val_loss: 5.9512 - val_accuracy: 0.3502\n",
      "Epoch 91/100\n",
      "40/40 [==============================] - 92s 2s/step - loss: 0.0580 - accuracy: 0.9739 - val_loss: 6.6350 - val_accuracy: 0.3565\n",
      "Epoch 92/100\n",
      "40/40 [==============================] - 93s 2s/step - loss: 0.0715 - accuracy: 0.9746 - val_loss: 5.6890 - val_accuracy: 0.3438\n",
      "Epoch 93/100\n",
      "40/40 [==============================] - 94s 2s/step - loss: 0.0733 - accuracy: 0.9731 - val_loss: 5.8290 - val_accuracy: 0.3533\n",
      "Epoch 94/100\n",
      "40/40 [==============================] - 92s 2s/step - loss: 0.0702 - accuracy: 0.9731 - val_loss: 5.9563 - val_accuracy: 0.3691\n",
      "Epoch 95/100\n",
      "40/40 [==============================] - 92s 2s/step - loss: 0.0461 - accuracy: 0.9778 - val_loss: 5.7711 - val_accuracy: 0.3596\n",
      "Epoch 96/100\n",
      "40/40 [==============================] - 92s 2s/step - loss: 0.0656 - accuracy: 0.9746 - val_loss: 6.0343 - val_accuracy: 0.3849\n",
      "Epoch 97/100\n",
      "40/40 [==============================] - 91s 2s/step - loss: 0.0674 - accuracy: 0.9754 - val_loss: 5.8013 - val_accuracy: 0.3785\n",
      "Epoch 98/100\n",
      "40/40 [==============================] - 92s 2s/step - loss: 0.0773 - accuracy: 0.9691 - val_loss: 5.7246 - val_accuracy: 0.4006\n",
      "Epoch 99/100\n",
      "40/40 [==============================] - 95s 2s/step - loss: 0.0642 - accuracy: 0.9731 - val_loss: 5.8393 - val_accuracy: 0.3817\n",
      "Epoch 100/100\n",
      "40/40 [==============================] - 95s 2s/step - loss: 0.0455 - accuracy: 0.9857 - val_loss: 6.0446 - val_accuracy: 0.3754\n"
     ]
    }
   ],
   "source": [
    "history = model.fit_generator(train_generator, epochs=100, validation_data=test_generator)"
   ]
  },
  {
   "cell_type": "code",
   "execution_count": 22,
   "id": "a70dc5ae",
   "metadata": {},
   "outputs": [
    {
     "data": {
      "text/plain": [
       "319"
      ]
     },
     "execution_count": 22,
     "metadata": {},
     "output_type": "execute_result"
    }
   ],
   "source": [
    "num_samples = test_df.shape[0]\n",
    "num_samples"
   ]
  },
  {
   "cell_type": "code",
   "execution_count": 23,
   "id": "413ca82e",
   "metadata": {},
   "outputs": [
    {
     "name": "stdout",
     "output_type": "stream",
     "text": [
      "10/10 [==============================] - 7s 730ms/step - loss: 6.0446 - accuracy: 0.3754\n"
     ]
    }
   ],
   "source": [
    "score = model.evaluate(test_generator,\n",
    "                       steps=num_samples//32+1,\n",
    "                       )"
   ]
  },
  {
   "cell_type": "code",
   "execution_count": 24,
   "id": "db10bd4f",
   "metadata": {},
   "outputs": [
    {
     "data": {
      "image/png": "[encoded data removed]",
      "text/plain": [
       "<Figure size 640x480 with 1 Axes>"
      ]
     },
     "metadata": {},
     "output_type": "display_data"
    },
    {
     "data": {
      "image/png": "[encoded data removed]",
      "text/plain": [
       "<Figure size 640x480 with 1 Axes>"
      ]
     },
     "metadata": {},
     "output_type": "display_data"
    },
    {
     "data": {
      "text/plain": [
       "<Figure size 640x480 with 0 Axes>"
      ]
     },
     "metadata": {},
     "output_type": "display_data"
    }
   ],
   "source": [
    "import matplotlib.pyplot as plt\n",
    "\n",
    "# Plot the loss\n",
    "plt.plot(history.history['loss'], label='Training Loss')\n",
    "plt.plot(history.history['val_loss'], label='Validation Loss')\n",
    "plt.legend()\n",
    "plt.show()\n",
    "plt.savefig('LossVal_loss')\n",
    "\n",
    "# Plot the accuracy\n",
    "plt.plot(history.history['accuracy'], label='Training Accuracy')\n",
    "plt.plot(history.history['val_accuracy'], label='Validation Accuracy')\n",
    "plt.legend()\n",
    "plt.show()\n",
    "plt.savefig('AccVal_acc')"
   ]
  },
  {
   "cell_type": "code",
   "execution_count": 25,
   "id": "bf49e51c",
   "metadata": {},
   "outputs": [],
   "source": [
    "import pickle\n",
    "pickle. dump(model, open(\"pest.pickle\", \"wb\"))"
   ]
  },
  {
   "cell_type": "code",
   "execution_count": 26,
   "id": "462338f4",
   "metadata": {},
   "outputs": [
    {
     "name": "stderr",
     "output_type": "stream",
     "text": [
      "WARNING:absl:Found untraced functions such as _jit_compiled_convolution_op, _jit_compiled_convolution_op, _jit_compiled_convolution_op, _jit_compiled_convolution_op, _update_step_xla while saving (showing 5 of 5). These functions will not be directly callable after loading.\n"
     ]
    },
    {
     "name": "stdout",
     "output_type": "stream",
     "text": [
      "INFO:tensorflow:Assets written to: pest.h1\\assets\n"
     ]
    },
    {
     "name": "stderr",
     "output_type": "stream",
     "text": [
      "INFO:tensorflow:Assets written to: pest.h1\\assets\n"
     ]
    }
   ],
   "source": [
    "# save it as a h5 file\n",
    "\n",
    "from tensorflow.keras.models import load_model\n",
    "\n",
    "model.save('pest.h1')"
   ]
  },
  {
   "cell_type": "code",
   "execution_count": null,
   "id": "e131fdb1",
   "metadata": {},
   "outputs": [],
   "source": []
  }
 ],
 "metadata": {
  "kernelspec": {
   "display_name": "Python 3 (ipykernel)",
   "language": "python",
   "name": "python3"
  },
  "language_info": {
   "codemirror_mode": {
    "name": "ipython",
    "version": 3
   },
   "file_extension": ".py",
   "mimetype": "text/x-python",
   "name": "python",
   "nbconvert_exporter": "python",
   "pygments_lexer": "ipython3",
   "version": "3.10.9"
  }
 },
 "nbformat": 4,
 "nbformat_minor": 5
}
